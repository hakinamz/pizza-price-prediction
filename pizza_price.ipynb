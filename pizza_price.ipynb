{
  "nbformat": 4,
  "nbformat_minor": 0,
  "metadata": {
    "colab": {
      "name": "pizza price.ipynb",
      "provenance": []
    },
    "kernelspec": {
      "name": "python3",
      "display_name": "Python 3"
    },
    "language_info": {
      "name": "python"
    }
  },
  "cells": [
    {
      "cell_type": "code",
      "metadata": {
        "colab": {
          "resources": {
            "http://localhost:8080/nbextensions/google.colab/files.js": {
              "data": "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",
              "ok": true,
              "headers": [
                [
                  "content-type",
                  "application/javascript"
                ]
              ],
              "status": 200,
              "status_text": ""
            }
          },
          "base_uri": "https://localhost:8080/",
          "height": 72
        },
        "id": "RE5T5-LmIsua",
        "outputId": "3fc21550-8ecb-4544-eb1f-bd388fb9620e"
      },
      "source": [
        "from google.colab import files\n",
        "uploaded = files.upload()"
      ],
      "execution_count": 1,
      "outputs": [
        {
          "output_type": "display_data",
          "data": {
            "text/html": [
              "\n",
              "     <input type=\"file\" id=\"files-1685223c-2d63-4738-b471-e39375ce1d0a\" name=\"files[]\" multiple disabled\n",
              "        style=\"border:none\" />\n",
              "     <output id=\"result-1685223c-2d63-4738-b471-e39375ce1d0a\">\n",
              "      Upload widget is only available when the cell has been executed in the\n",
              "      current browser session. Please rerun this cell to enable.\n",
              "      </output>\n",
              "      <script src=\"/nbextensions/google.colab/files.js\"></script> "
            ],
            "text/plain": [
              "<IPython.core.display.HTML object>"
            ]
          },
          "metadata": {
            "tags": []
          }
        },
        {
          "output_type": "stream",
          "text": [
            "Saving Pizza-Price.csv to Pizza-Price.csv\n"
          ],
          "name": "stdout"
        }
      ]
    },
    {
      "cell_type": "code",
      "metadata": {
        "id": "4fJl0F4CJfoA"
      },
      "source": [
        "# Importing Liberaries\n",
        "import pandas as pd\n",
        "import numpy as np\n",
        "import matplotlib.pyplot as plt\n",
        "import seaborn as sns"
      ],
      "execution_count": 2,
      "outputs": []
    },
    {
      "cell_type": "code",
      "metadata": {
        "colab": {
          "base_uri": "https://localhost:8080/",
          "height": 669
        },
        "id": "rO1WnWe7Kzw-",
        "outputId": "6fd4d1d3-dba6-4e42-d047-bde640e49738"
      },
      "source": [
        "df = pd.read_csv('Pizza-Price.csv')\n",
        "df"
      ],
      "execution_count": 3,
      "outputs": [
        {
          "output_type": "execute_result",
          "data": {
            "text/html": [
              "<div>\n",
              "<style scoped>\n",
              "    .dataframe tbody tr th:only-of-type {\n",
              "        vertical-align: middle;\n",
              "    }\n",
              "\n",
              "    .dataframe tbody tr th {\n",
              "        vertical-align: top;\n",
              "    }\n",
              "\n",
              "    .dataframe thead th {\n",
              "        text-align: right;\n",
              "    }\n",
              "</style>\n",
              "<table border=\"1\" class=\"dataframe\">\n",
              "  <thead>\n",
              "    <tr style=\"text-align: right;\">\n",
              "      <th></th>\n",
              "      <th>Restaurant</th>\n",
              "      <th>Extra Cheeze</th>\n",
              "      <th>Extra Mushroom</th>\n",
              "      <th>Size by Inch</th>\n",
              "      <th>Extra Spicy</th>\n",
              "      <th>Price</th>\n",
              "    </tr>\n",
              "  </thead>\n",
              "  <tbody>\n",
              "    <tr>\n",
              "      <th>0</th>\n",
              "      <td>A</td>\n",
              "      <td>yes</td>\n",
              "      <td>yes</td>\n",
              "      <td>12</td>\n",
              "      <td>no</td>\n",
              "      <td>650</td>\n",
              "    </tr>\n",
              "    <tr>\n",
              "      <th>1</th>\n",
              "      <td>B</td>\n",
              "      <td>no</td>\n",
              "      <td>yes</td>\n",
              "      <td>15</td>\n",
              "      <td>yes</td>\n",
              "      <td>800</td>\n",
              "    </tr>\n",
              "    <tr>\n",
              "      <th>2</th>\n",
              "      <td>C</td>\n",
              "      <td>no</td>\n",
              "      <td>no</td>\n",
              "      <td>9</td>\n",
              "      <td>no</td>\n",
              "      <td>500</td>\n",
              "    </tr>\n",
              "    <tr>\n",
              "      <th>3</th>\n",
              "      <td>D</td>\n",
              "      <td>yes</td>\n",
              "      <td>no</td>\n",
              "      <td>12</td>\n",
              "      <td>yes</td>\n",
              "      <td>700</td>\n",
              "    </tr>\n",
              "    <tr>\n",
              "      <th>4</th>\n",
              "      <td>E</td>\n",
              "      <td>yes</td>\n",
              "      <td>no</td>\n",
              "      <td>12</td>\n",
              "      <td>yes</td>\n",
              "      <td>750</td>\n",
              "    </tr>\n",
              "    <tr>\n",
              "      <th>5</th>\n",
              "      <td>F</td>\n",
              "      <td>no</td>\n",
              "      <td>yes</td>\n",
              "      <td>15</td>\n",
              "      <td>yes</td>\n",
              "      <td>900</td>\n",
              "    </tr>\n",
              "    <tr>\n",
              "      <th>6</th>\n",
              "      <td>G</td>\n",
              "      <td>yes</td>\n",
              "      <td>no</td>\n",
              "      <td>9</td>\n",
              "      <td>no</td>\n",
              "      <td>600</td>\n",
              "    </tr>\n",
              "    <tr>\n",
              "      <th>7</th>\n",
              "      <td>H</td>\n",
              "      <td>yes</td>\n",
              "      <td>no</td>\n",
              "      <td>9</td>\n",
              "      <td>yes</td>\n",
              "      <td>700</td>\n",
              "    </tr>\n",
              "    <tr>\n",
              "      <th>8</th>\n",
              "      <td>I</td>\n",
              "      <td>no</td>\n",
              "      <td>yes</td>\n",
              "      <td>15</td>\n",
              "      <td>no</td>\n",
              "      <td>750</td>\n",
              "    </tr>\n",
              "    <tr>\n",
              "      <th>9</th>\n",
              "      <td>J</td>\n",
              "      <td>no</td>\n",
              "      <td>yes</td>\n",
              "      <td>15</td>\n",
              "      <td>no</td>\n",
              "      <td>700</td>\n",
              "    </tr>\n",
              "    <tr>\n",
              "      <th>10</th>\n",
              "      <td>K</td>\n",
              "      <td>yes</td>\n",
              "      <td>yes</td>\n",
              "      <td>8</td>\n",
              "      <td>no</td>\n",
              "      <td>600</td>\n",
              "    </tr>\n",
              "    <tr>\n",
              "      <th>11</th>\n",
              "      <td>L</td>\n",
              "      <td>no</td>\n",
              "      <td>no</td>\n",
              "      <td>12</td>\n",
              "      <td>yes</td>\n",
              "      <td>700</td>\n",
              "    </tr>\n",
              "    <tr>\n",
              "      <th>12</th>\n",
              "      <td>M</td>\n",
              "      <td>yes</td>\n",
              "      <td>yes</td>\n",
              "      <td>8</td>\n",
              "      <td>no</td>\n",
              "      <td>550</td>\n",
              "    </tr>\n",
              "    <tr>\n",
              "      <th>13</th>\n",
              "      <td>N</td>\n",
              "      <td>yes</td>\n",
              "      <td>yes</td>\n",
              "      <td>12</td>\n",
              "      <td>yes</td>\n",
              "      <td>900</td>\n",
              "    </tr>\n",
              "    <tr>\n",
              "      <th>14</th>\n",
              "      <td>O</td>\n",
              "      <td>yes</td>\n",
              "      <td>no</td>\n",
              "      <td>12</td>\n",
              "      <td>no</td>\n",
              "      <td>700</td>\n",
              "    </tr>\n",
              "    <tr>\n",
              "      <th>15</th>\n",
              "      <td>P</td>\n",
              "      <td>yes</td>\n",
              "      <td>yes</td>\n",
              "      <td>12</td>\n",
              "      <td>no</td>\n",
              "      <td>750</td>\n",
              "    </tr>\n",
              "    <tr>\n",
              "      <th>16</th>\n",
              "      <td>Q</td>\n",
              "      <td>no</td>\n",
              "      <td>yes</td>\n",
              "      <td>15</td>\n",
              "      <td>yes</td>\n",
              "      <td>1000</td>\n",
              "    </tr>\n",
              "    <tr>\n",
              "      <th>17</th>\n",
              "      <td>R</td>\n",
              "      <td>no</td>\n",
              "      <td>no</td>\n",
              "      <td>9</td>\n",
              "      <td>no</td>\n",
              "      <td>650</td>\n",
              "    </tr>\n",
              "    <tr>\n",
              "      <th>18</th>\n",
              "      <td>S</td>\n",
              "      <td>yes</td>\n",
              "      <td>yes</td>\n",
              "      <td>12</td>\n",
              "      <td>yes</td>\n",
              "      <td>950</td>\n",
              "    </tr>\n",
              "    <tr>\n",
              "      <th>19</th>\n",
              "      <td>T</td>\n",
              "      <td>yes</td>\n",
              "      <td>no</td>\n",
              "      <td>9</td>\n",
              "      <td>no</td>\n",
              "      <td>700</td>\n",
              "    </tr>\n",
              "  </tbody>\n",
              "</table>\n",
              "</div>"
            ],
            "text/plain": [
              "   Restaurant Extra Cheeze Extra Mushroom   Size by Inch Extra Spicy  Price\n",
              "0           A          yes            yes             12          no    650\n",
              "1           B           no            yes             15         yes    800\n",
              "2           C           no             no              9          no    500\n",
              "3           D          yes             no             12         yes    700\n",
              "4           E          yes             no             12         yes    750\n",
              "5           F           no            yes             15         yes    900\n",
              "6           G          yes             no              9          no    600\n",
              "7           H          yes             no              9         yes    700\n",
              "8           I           no            yes             15          no    750\n",
              "9           J           no            yes             15          no    700\n",
              "10          K          yes            yes              8          no    600\n",
              "11          L           no             no             12         yes    700\n",
              "12          M          yes            yes              8          no    550\n",
              "13          N          yes            yes             12         yes    900\n",
              "14          O          yes             no             12          no    700\n",
              "15          P          yes            yes             12          no    750\n",
              "16          Q           no            yes             15         yes   1000\n",
              "17          R           no             no              9          no    650\n",
              "18          S          yes            yes             12         yes    950\n",
              "19          T          yes             no              9          no    700"
            ]
          },
          "metadata": {
            "tags": []
          },
          "execution_count": 3
        }
      ]
    },
    {
      "cell_type": "code",
      "metadata": {
        "colab": {
          "base_uri": "https://localhost:8080/",
          "height": 82
        },
        "id": "IZq0WZ8OK654",
        "outputId": "9d31e2bf-a9ae-4570-c175-670cb8bf7d61"
      },
      "source": [
        "corr = df.corr()\n",
        "corr.style.background_gradient(cmap='Reds')"
      ],
      "execution_count": 4,
      "outputs": [
        {
          "output_type": "execute_result",
          "data": {
            "text/html": [
              "<style  type=\"text/css\" >\n",
              "#T_af8abc52_cd74_11eb_9a69_0242ac1c0002row0_col0,#T_af8abc52_cd74_11eb_9a69_0242ac1c0002row1_col1{\n",
              "            background-color:  #67000d;\n",
              "            color:  #f1f1f1;\n",
              "        }#T_af8abc52_cd74_11eb_9a69_0242ac1c0002row0_col1,#T_af8abc52_cd74_11eb_9a69_0242ac1c0002row1_col0{\n",
              "            background-color:  #fff5f0;\n",
              "            color:  #000000;\n",
              "        }</style><table id=\"T_af8abc52_cd74_11eb_9a69_0242ac1c0002\" ><thead>    <tr>        <th class=\"blank level0\" ></th>        <th class=\"col_heading level0 col0\" > Size by Inch</th>        <th class=\"col_heading level0 col1\" >Price</th>    </tr></thead><tbody>\n",
              "                <tr>\n",
              "                        <th id=\"T_af8abc52_cd74_11eb_9a69_0242ac1c0002level0_row0\" class=\"row_heading level0 row0\" > Size by Inch</th>\n",
              "                        <td id=\"T_af8abc52_cd74_11eb_9a69_0242ac1c0002row0_col0\" class=\"data row0 col0\" >1.000000</td>\n",
              "                        <td id=\"T_af8abc52_cd74_11eb_9a69_0242ac1c0002row0_col1\" class=\"data row0 col1\" >0.681904</td>\n",
              "            </tr>\n",
              "            <tr>\n",
              "                        <th id=\"T_af8abc52_cd74_11eb_9a69_0242ac1c0002level0_row1\" class=\"row_heading level0 row1\" >Price</th>\n",
              "                        <td id=\"T_af8abc52_cd74_11eb_9a69_0242ac1c0002row1_col0\" class=\"data row1 col0\" >0.681904</td>\n",
              "                        <td id=\"T_af8abc52_cd74_11eb_9a69_0242ac1c0002row1_col1\" class=\"data row1 col1\" >1.000000</td>\n",
              "            </tr>\n",
              "    </tbody></table>"
            ],
            "text/plain": [
              "<pandas.io.formats.style.Styler at 0x7f5183ae4450>"
            ]
          },
          "metadata": {
            "tags": []
          },
          "execution_count": 4
        }
      ]
    },
    {
      "cell_type": "code",
      "metadata": {
        "colab": {
          "base_uri": "https://localhost:8080/"
        },
        "id": "HeVeatl5LIWH",
        "outputId": "66809d18-fb16-4f53-8b41-acfebbf36dc7"
      },
      "source": [
        "df.info"
      ],
      "execution_count": 5,
      "outputs": [
        {
          "output_type": "execute_result",
          "data": {
            "text/plain": [
              "<bound method DataFrame.info of    Restaurant Extra Cheeze Extra Mushroom   Size by Inch Extra Spicy  Price\n",
              "0           A          yes            yes             12          no    650\n",
              "1           B           no            yes             15         yes    800\n",
              "2           C           no             no              9          no    500\n",
              "3           D          yes             no             12         yes    700\n",
              "4           E          yes             no             12         yes    750\n",
              "5           F           no            yes             15         yes    900\n",
              "6           G          yes             no              9          no    600\n",
              "7           H          yes             no              9         yes    700\n",
              "8           I           no            yes             15          no    750\n",
              "9           J           no            yes             15          no    700\n",
              "10          K          yes            yes              8          no    600\n",
              "11          L           no             no             12         yes    700\n",
              "12          M          yes            yes              8          no    550\n",
              "13          N          yes            yes             12         yes    900\n",
              "14          O          yes             no             12          no    700\n",
              "15          P          yes            yes             12          no    750\n",
              "16          Q           no            yes             15         yes   1000\n",
              "17          R           no             no              9          no    650\n",
              "18          S          yes            yes             12         yes    950\n",
              "19          T          yes             no              9          no    700>"
            ]
          },
          "metadata": {
            "tags": []
          },
          "execution_count": 5
        }
      ]
    },
    {
      "cell_type": "code",
      "metadata": {
        "colab": {
          "base_uri": "https://localhost:8080/"
        },
        "id": "ymdEwMLuLKLT",
        "outputId": "2883a9c3-9577-4ecf-98d0-6643f9569ff3"
      },
      "source": [
        "df.isnull().sum()"
      ],
      "execution_count": 6,
      "outputs": [
        {
          "output_type": "execute_result",
          "data": {
            "text/plain": [
              "Restaurant        0\n",
              "Extra Cheeze      0\n",
              "Extra Mushroom    0\n",
              " Size by Inch     0\n",
              "Extra Spicy       0\n",
              "Price             0\n",
              "dtype: int64"
            ]
          },
          "metadata": {
            "tags": []
          },
          "execution_count": 6
        }
      ]
    },
    {
      "cell_type": "code",
      "metadata": {
        "colab": {
          "base_uri": "https://localhost:8080/",
          "height": 297
        },
        "id": "eJdkJ-Y-LRYC",
        "outputId": "f0deee69-5c42-435d-d124-1e7786a22d9d"
      },
      "source": [
        "pd.set_option('precision',3)\n",
        "df.describe()"
      ],
      "execution_count": 7,
      "outputs": [
        {
          "output_type": "execute_result",
          "data": {
            "text/html": [
              "<div>\n",
              "<style scoped>\n",
              "    .dataframe tbody tr th:only-of-type {\n",
              "        vertical-align: middle;\n",
              "    }\n",
              "\n",
              "    .dataframe tbody tr th {\n",
              "        vertical-align: top;\n",
              "    }\n",
              "\n",
              "    .dataframe thead th {\n",
              "        text-align: right;\n",
              "    }\n",
              "</style>\n",
              "<table border=\"1\" class=\"dataframe\">\n",
              "  <thead>\n",
              "    <tr style=\"text-align: right;\">\n",
              "      <th></th>\n",
              "      <th>Size by Inch</th>\n",
              "      <th>Price</th>\n",
              "    </tr>\n",
              "  </thead>\n",
              "  <tbody>\n",
              "    <tr>\n",
              "      <th>count</th>\n",
              "      <td>20.000</td>\n",
              "      <td>20.000</td>\n",
              "    </tr>\n",
              "    <tr>\n",
              "      <th>mean</th>\n",
              "      <td>11.600</td>\n",
              "      <td>727.500</td>\n",
              "    </tr>\n",
              "    <tr>\n",
              "      <th>std</th>\n",
              "      <td>2.501</td>\n",
              "      <td>130.258</td>\n",
              "    </tr>\n",
              "    <tr>\n",
              "      <th>min</th>\n",
              "      <td>8.000</td>\n",
              "      <td>500.000</td>\n",
              "    </tr>\n",
              "    <tr>\n",
              "      <th>25%</th>\n",
              "      <td>9.000</td>\n",
              "      <td>650.000</td>\n",
              "    </tr>\n",
              "    <tr>\n",
              "      <th>50%</th>\n",
              "      <td>12.000</td>\n",
              "      <td>700.000</td>\n",
              "    </tr>\n",
              "    <tr>\n",
              "      <th>75%</th>\n",
              "      <td>12.750</td>\n",
              "      <td>762.500</td>\n",
              "    </tr>\n",
              "    <tr>\n",
              "      <th>max</th>\n",
              "      <td>15.000</td>\n",
              "      <td>1000.000</td>\n",
              "    </tr>\n",
              "  </tbody>\n",
              "</table>\n",
              "</div>"
            ],
            "text/plain": [
              "        Size by Inch     Price\n",
              "count         20.000    20.000\n",
              "mean          11.600   727.500\n",
              "std            2.501   130.258\n",
              "min            8.000   500.000\n",
              "25%            9.000   650.000\n",
              "50%           12.000   700.000\n",
              "75%           12.750   762.500\n",
              "max           15.000  1000.000"
            ]
          },
          "metadata": {
            "tags": []
          },
          "execution_count": 7
        }
      ]
    },
    {
      "cell_type": "code",
      "metadata": {
        "colab": {
          "base_uri": "https://localhost:8080/"
        },
        "id": "Tdj9u4kSLd2f",
        "outputId": "f51dc56d-788d-4425-f248-dd6c77ffd697"
      },
      "source": [
        "df.shape"
      ],
      "execution_count": 9,
      "outputs": [
        {
          "output_type": "execute_result",
          "data": {
            "text/plain": [
              "(20, 6)"
            ]
          },
          "metadata": {
            "tags": []
          },
          "execution_count": 9
        }
      ]
    },
    {
      "cell_type": "code",
      "metadata": {
        "colab": {
          "base_uri": "https://localhost:8080/",
          "height": 316
        },
        "id": "1DExWAWaLh5O",
        "outputId": "fe031815-8cea-45c8-b608-bc92fac7c00b"
      },
      "source": [
        "print(df['Extra Cheeze'].value_counts())\n",
        "df['Extra Cheeze'].value_counts().plot.pie()"
      ],
      "execution_count": 10,
      "outputs": [
        {
          "output_type": "stream",
          "text": [
            "yes    12\n",
            "no      8\n",
            "Name: Extra Cheeze, dtype: int64\n"
          ],
          "name": "stdout"
        },
        {
          "output_type": "execute_result",
          "data": {
            "text/plain": [
              "<matplotlib.axes._subplots.AxesSubplot at 0x7f5183203790>"
            ]
          },
          "metadata": {
            "tags": []
          },
          "execution_count": 10
        },
        {
          "output_type": "display_data",
          "data": {
            "image/png": "[encoded data removed]",
            "text/plain": [
              "<Figure size 432x288 with 1 Axes>"
            ]
          },
          "metadata": {
            "tags": []
          }
        }
      ]
    },
    {
      "cell_type": "code",
      "metadata": {
        "colab": {
          "base_uri": "https://localhost:8080/",
          "height": 299
        },
        "id": "oy9dUr3TLpSt",
        "outputId": "44e6f76b-55ad-4d1a-a5a5-2bb99e6fe0ff"
      },
      "source": [
        "# Pizza which have Extra Mushroom\n",
        "print(df['Extra Mushroom'].value_counts())\n",
        "df['Extra Mushroom'].value_counts().plot.pie();"
      ],
      "execution_count": 11,
      "outputs": [
        {
          "output_type": "stream",
          "text": [
            "yes    11\n",
            "no      9\n",
            "Name: Extra Mushroom, dtype: int64\n"
          ],
          "name": "stdout"
        },
        {
          "output_type": "display_data",
          "data": {
            "image/png": "[encoded data removed]",
            "text/plain": [
              "<Figure size 432x288 with 1 Axes>"
            ]
          },
          "metadata": {
            "tags": []
          }
        }
      ]
    },
    {
      "cell_type": "code",
      "metadata": {
        "colab": {
          "base_uri": "https://localhost:8080/",
          "height": 299
        },
        "id": "Qz0cbdsGLssH",
        "outputId": "48a6a4f3-86ed-45e2-adb0-b48d6428abbb"
      },
      "source": [
        "# Pizza which are Extra Spicy\n",
        "print(df['Extra Spicy'].value_counts())\n",
        "df['Extra Spicy'].value_counts().plot.pie();"
      ],
      "execution_count": 12,
      "outputs": [
        {
          "output_type": "stream",
          "text": [
            "no     11\n",
            "yes     9\n",
            "Name: Extra Spicy, dtype: int64\n"
          ],
          "name": "stdout"
        },
        {
          "output_type": "display_data",
          "data": {
            "image/png": "[encoded data removed]",
            "text/plain": [
              "<Figure size 432x288 with 1 Axes>"
            ]
          },
          "metadata": {
            "tags": []
          }
        }
      ]
    },
    {
      "cell_type": "code",
      "metadata": {
        "colab": {
          "base_uri": "https://localhost:8080/",
          "height": 333
        },
        "id": "NhV_4N_yLwVC",
        "outputId": "c584bd23-ccca-434b-dfe9-cddbddc660b0"
      },
      "source": [
        "# Pizza Size by Inch mostly ordered\n",
        "print(df[' Size by Inch'].value_counts())\n",
        "df[' Size by Inch'].value_counts().plot.pie();"
      ],
      "execution_count": 13,
      "outputs": [
        {
          "output_type": "stream",
          "text": [
            "12    8\n",
            "15    5\n",
            "9     5\n",
            "8     2\n",
            "Name:  Size by Inch, dtype: int64\n"
          ],
          "name": "stdout"
        },
        {
          "output_type": "display_data",
          "data": {
            "image/png": "[encoded data removed]",
            "text/plain": [
              "<Figure size 432x288 with 1 Axes>"
            ]
          },
          "metadata": {
            "tags": []
          }
        }
      ]
    },
    {
      "cell_type": "code",
      "metadata": {
        "colab": {
          "base_uri": "https://localhost:8080/",
          "height": 452
        },
        "id": "yc_Sy2--Lzfh",
        "outputId": "15f5348b-2c10-42dc-e49f-92ac321cdb46"
      },
      "source": [
        "# Money spent by customers\n",
        "print(df['Price'].value_counts())\n",
        "df['Price'].value_counts().plot.pie();\n",
        "print('Total money spent by customer: ', df['Price'].sum())"
      ],
      "execution_count": 14,
      "outputs": [
        {
          "output_type": "stream",
          "text": [
            "700     6\n",
            "750     3\n",
            "600     2\n",
            "650     2\n",
            "900     2\n",
            "950     1\n",
            "500     1\n",
            "1000    1\n",
            "550     1\n",
            "800     1\n",
            "Name: Price, dtype: int64\n",
            "Total money spent by customer:  14550\n"
          ],
          "name": "stdout"
        },
        {
          "output_type": "display_data",
          "data": {
            "image/png": "[encoded data removed]",
            "text/plain": [
              "<Figure size 432x288 with 1 Axes>"
            ]
          },
          "metadata": {
            "tags": []
          }
        }
      ]
    },
    {
      "cell_type": "code",
      "metadata": {
        "colab": {
          "base_uri": "https://localhost:8080/",
          "height": 611
        },
        "id": "RazBZxRzL28y",
        "outputId": "629d78a7-d58f-43b5-bf39-34fb0bf66325"
      },
      "source": [
        "sizeprice = pd.crosstab(index = df['Price'], columns = df[' Size by Inch'])\n",
        "print(sizeprice)\n",
        "sizeprice.plot.line();\n",
        "corr = sizeprice.corr()\n",
        "corr.style.background_gradient(cmap='Blues')"
      ],
      "execution_count": 15,
      "outputs": [
        {
          "output_type": "stream",
          "text": [
            " Size by Inch  8   9   12  15\n",
            "Price                        \n",
            "500             0   1   0   0\n",
            "550             1   0   0   0\n",
            "600             1   1   0   0\n",
            "650             0   1   1   0\n",
            "700             0   2   3   1\n",
            "750             0   0   2   1\n",
            "800             0   0   0   1\n",
            "900             0   0   1   1\n",
            "950             0   0   1   0\n",
            "1000            0   0   0   1\n"
          ],
          "name": "stdout"
        },
        {
          "output_type": "execute_result",
          "data": {
            "text/html": [
              "<style  type=\"text/css\" >\n",
              "#T_296f42ea_cd75_11eb_9a69_0242ac1c0002row0_col0,#T_296f42ea_cd75_11eb_9a69_0242ac1c0002row1_col1,#T_296f42ea_cd75_11eb_9a69_0242ac1c0002row2_col2,#T_296f42ea_cd75_11eb_9a69_0242ac1c0002row3_col3{\n",
              "            background-color:  #08306b;\n",
              "            color:  #f1f1f1;\n",
              "        }#T_296f42ea_cd75_11eb_9a69_0242ac1c0002row0_col1{\n",
              "            background-color:  #ddeaf7;\n",
              "            color:  #000000;\n",
              "        }#T_296f42ea_cd75_11eb_9a69_0242ac1c0002row0_col2,#T_296f42ea_cd75_11eb_9a69_0242ac1c0002row0_col3,#T_296f42ea_cd75_11eb_9a69_0242ac1c0002row3_col0,#T_296f42ea_cd75_11eb_9a69_0242ac1c0002row3_col1{\n",
              "            background-color:  #f7fbff;\n",
              "            color:  #000000;\n",
              "        }#T_296f42ea_cd75_11eb_9a69_0242ac1c0002row1_col0{\n",
              "            background-color:  #abd0e6;\n",
              "            color:  #000000;\n",
              "        }#T_296f42ea_cd75_11eb_9a69_0242ac1c0002row1_col2{\n",
              "            background-color:  #4594c7;\n",
              "            color:  #000000;\n",
              "        }#T_296f42ea_cd75_11eb_9a69_0242ac1c0002row1_col3{\n",
              "            background-color:  #caddf0;\n",
              "            color:  #000000;\n",
              "        }#T_296f42ea_cd75_11eb_9a69_0242ac1c0002row2_col0{\n",
              "            background-color:  #ebf3fb;\n",
              "            color:  #000000;\n",
              "        }#T_296f42ea_cd75_11eb_9a69_0242ac1c0002row2_col1{\n",
              "            background-color:  #63a8d3;\n",
              "            color:  #000000;\n",
              "        }#T_296f42ea_cd75_11eb_9a69_0242ac1c0002row2_col3{\n",
              "            background-color:  #4896c8;\n",
              "            color:  #000000;\n",
              "        }#T_296f42ea_cd75_11eb_9a69_0242ac1c0002row3_col2{\n",
              "            background-color:  #519ccc;\n",
              "            color:  #000000;\n",
              "        }</style><table id=\"T_296f42ea_cd75_11eb_9a69_0242ac1c0002\" ><thead>    <tr>        <th class=\"index_name level0\" > Size by Inch</th>        <th class=\"col_heading level0 col0\" >8</th>        <th class=\"col_heading level0 col1\" >9</th>        <th class=\"col_heading level0 col2\" >12</th>        <th class=\"col_heading level0 col3\" >15</th>    </tr>    <tr>        <th class=\"index_name level0\" > Size by Inch</th>        <th class=\"blank\" ></th>        <th class=\"blank\" ></th>        <th class=\"blank\" ></th>        <th class=\"blank\" ></th>    </tr></thead><tbody>\n",
              "                <tr>\n",
              "                        <th id=\"T_296f42ea_cd75_11eb_9a69_0242ac1c0002level0_row0\" class=\"row_heading level0 row0\" >8</th>\n",
              "                        <td id=\"T_296f42ea_cd75_11eb_9a69_0242ac1c0002row0_col0\" class=\"data row0 col0\" >1.000</td>\n",
              "                        <td id=\"T_296f42ea_cd75_11eb_9a69_0242ac1c0002row0_col1\" class=\"data row0 col1\" >-0.000</td>\n",
              "                        <td id=\"T_296f42ea_cd75_11eb_9a69_0242ac1c0002row0_col2\" class=\"data row0 col2\" >-0.408</td>\n",
              "                        <td id=\"T_296f42ea_cd75_11eb_9a69_0242ac1c0002row0_col3\" class=\"data row0 col3\" >-0.500</td>\n",
              "            </tr>\n",
              "            <tr>\n",
              "                        <th id=\"T_296f42ea_cd75_11eb_9a69_0242ac1c0002level0_row1\" class=\"row_heading level0 row1\" >9</th>\n",
              "                        <td id=\"T_296f42ea_cd75_11eb_9a69_0242ac1c0002row1_col0\" class=\"data row1 col0\" >-0.000</td>\n",
              "                        <td id=\"T_296f42ea_cd75_11eb_9a69_0242ac1c0002row1_col1\" class=\"data row1 col1\" >1.000</td>\n",
              "                        <td id=\"T_296f42ea_cd75_11eb_9a69_0242ac1c0002row1_col2\" class=\"data row1 col2\" >0.456</td>\n",
              "                        <td id=\"T_296f42ea_cd75_11eb_9a69_0242ac1c0002row1_col3\" class=\"data row1 col3\" >-0.149</td>\n",
              "            </tr>\n",
              "            <tr>\n",
              "                        <th id=\"T_296f42ea_cd75_11eb_9a69_0242ac1c0002level0_row2\" class=\"row_heading level0 row2\" >12</th>\n",
              "                        <td id=\"T_296f42ea_cd75_11eb_9a69_0242ac1c0002row2_col0\" class=\"data row2 col0\" >-0.408</td>\n",
              "                        <td id=\"T_296f42ea_cd75_11eb_9a69_0242ac1c0002row2_col1\" class=\"data row2 col1\" >0.456</td>\n",
              "                        <td id=\"T_296f42ea_cd75_11eb_9a69_0242ac1c0002row2_col2\" class=\"data row2 col2\" >1.000</td>\n",
              "                        <td id=\"T_296f42ea_cd75_11eb_9a69_0242ac1c0002row2_col3\" class=\"data row2 col3\" >0.408</td>\n",
              "            </tr>\n",
              "            <tr>\n",
              "                        <th id=\"T_296f42ea_cd75_11eb_9a69_0242ac1c0002level0_row3\" class=\"row_heading level0 row3\" >15</th>\n",
              "                        <td id=\"T_296f42ea_cd75_11eb_9a69_0242ac1c0002row3_col0\" class=\"data row3 col0\" >-0.500</td>\n",
              "                        <td id=\"T_296f42ea_cd75_11eb_9a69_0242ac1c0002row3_col1\" class=\"data row3 col1\" >-0.149</td>\n",
              "                        <td id=\"T_296f42ea_cd75_11eb_9a69_0242ac1c0002row3_col2\" class=\"data row3 col2\" >0.408</td>\n",
              "                        <td id=\"T_296f42ea_cd75_11eb_9a69_0242ac1c0002row3_col3\" class=\"data row3 col3\" >1.000</td>\n",
              "            </tr>\n",
              "    </tbody></table>"
            ],
            "text/plain": [
              "<pandas.io.formats.style.Styler at 0x7f5183321ad0>"
            ]
          },
          "metadata": {
            "tags": []
          },
          "execution_count": 15
        },
        {
          "output_type": "display_data",
          "data": {
            "image/png": "[encoded data removed]",
            "text/plain": [
              "<Figure size 432x288 with 1 Axes>"
            ]
          },
          "metadata": {
            "tags": [],
            "needs_background": "light"
          }
        }
      ]
    },
    {
      "cell_type": "code",
      "metadata": {
        "colab": {
          "base_uri": "https://localhost:8080/",
          "height": 760
        },
        "id": "w44CK80CL6SJ",
        "outputId": "f3c23667-8c00-4a10-9037-24eb4cf006ab"
      },
      "source": [
        "# CHEEZE - PRIZE\n",
        "cheezeprice = pd.crosstab(index = df['Price'], columns = df['Extra Cheeze'])\n",
        "print(cheezeprice)\n",
        "cheezeprice.plot.bar();\n",
        "cheezeprice.plot.line();"
      ],
      "execution_count": 16,
      "outputs": [
        {
          "output_type": "stream",
          "text": [
            "Extra Cheeze  no  yes\n",
            "Price                \n",
            "500            1    0\n",
            "550            0    1\n",
            "600            0    2\n",
            "650            1    1\n",
            "700            2    4\n",
            "750            1    2\n",
            "800            1    0\n",
            "900            1    1\n",
            "950            0    1\n",
            "1000           1    0\n"
          ],
          "name": "stdout"
        },
        {
          "output_type": "display_data",
          "data": {
            "image/png": "[encoded data removed]",
            "text/plain": [
              "<Figure size 432x288 with 1 Axes>"
            ]
          },
          "metadata": {
            "tags": [],
            "needs_background": "light"
          }
        },
        {
          "output_type": "display_data",
          "data": {
            "image/png": "[encoded data removed]",
            "text/plain": [
              "<Figure size 432x288 with 1 Axes>"
            ]
          },
          "metadata": {
            "tags": [],
            "needs_background": "light"
          }
        }
      ]
    },
    {
      "cell_type": "code",
      "metadata": {
        "colab": {
          "base_uri": "https://localhost:8080/",
          "height": 760
        },
        "id": "55IyUIyBL-h_",
        "outputId": "ccdb658e-c639-42a7-9407-dedab2c55ad0"
      },
      "source": [
        "# MUSHROOM - PRIZE\n",
        "mushprice = pd.crosstab(index = df['Price'], columns = df['Extra Mushroom'])\n",
        "print(mushprice)\n",
        "mushprice.plot.bar();\n",
        "mushprice.plot.line();"
      ],
      "execution_count": 17,
      "outputs": [
        {
          "output_type": "stream",
          "text": [
            "Extra Mushroom  no  yes\n",
            "Price                  \n",
            "500              1    0\n",
            "550              0    1\n",
            "600              1    1\n",
            "650              1    1\n",
            "700              5    1\n",
            "750              1    2\n",
            "800              0    1\n",
            "900              0    2\n",
            "950              0    1\n",
            "1000             0    1\n"
          ],
          "name": "stdout"
        },
        {
          "output_type": "display_data",
          "data": {
            "image/png": "[encoded data removed]",
            "text/plain": [
              "<Figure size 432x288 with 1 Axes>"
            ]
          },
          "metadata": {
            "tags": [],
            "needs_background": "light"
          }
        },
        {
          "output_type": "display_data",
          "data": {
            "image/png": "[encoded data removed]",
            "text/plain": [
              "<Figure size 432x288 with 1 Axes>"
            ]
          },
          "metadata": {
            "tags": [],
            "needs_background": "light"
          }
        }
      ]
    },
    {
      "cell_type": "code",
      "metadata": {
        "colab": {
          "base_uri": "https://localhost:8080/",
          "height": 760
        },
        "id": "uDR2iqtLMCP8",
        "outputId": "902ce42a-4fdc-4e68-aa0a-a75c358703e0"
      },
      "source": [
        "# SPICY - PRIZE\n",
        "spiceprice = pd.crosstab(index = df['Price'], columns = df['Extra Spicy'])\n",
        "print(spiceprice)\n",
        "spiceprice.plot.bar();\n",
        "spiceprice.plot.line();"
      ],
      "execution_count": 18,
      "outputs": [
        {
          "output_type": "stream",
          "text": [
            "Extra Spicy  no  yes\n",
            "Price               \n",
            "500           1    0\n",
            "550           1    0\n",
            "600           2    0\n",
            "650           2    0\n",
            "700           3    3\n",
            "750           2    1\n",
            "800           0    1\n",
            "900           0    2\n",
            "950           0    1\n",
            "1000          0    1\n"
          ],
          "name": "stdout"
        },
        {
          "output_type": "display_data",
          "data": {
            "image/png": "[encoded data removed]",
            "text/plain": [
              "<Figure size 432x288 with 1 Axes>"
            ]
          },
          "metadata": {
            "tags": [],
            "needs_background": "light"
          }
        },
        {
          "output_type": "display_data",
          "data": {
            "image/png": "[encoded data removed]",
            "text/plain": [
              "<Figure size 432x288 with 1 Axes>"
            ]
          },
          "metadata": {
            "tags": [],
            "needs_background": "light"
          }
        }
      ]
    },
    {
      "cell_type": "code",
      "metadata": {
        "colab": {
          "base_uri": "https://localhost:8080/",
          "height": 669
        },
        "id": "ZalYoIzpMFbD",
        "outputId": "04c08604-acd0-4329-9007-62901c5627d4"
      },
      "source": [
        "# Replacing YES/NO to 0/1 in data\n",
        "df.replace(('yes', 'no'), (1, 0), inplace=True)\n",
        "df"
      ],
      "execution_count": 19,
      "outputs": [
        {
          "output_type": "execute_result",
          "data": {
            "text/html": [
              "<div>\n",
              "<style scoped>\n",
              "    .dataframe tbody tr th:only-of-type {\n",
              "        vertical-align: middle;\n",
              "    }\n",
              "\n",
              "    .dataframe tbody tr th {\n",
              "        vertical-align: top;\n",
              "    }\n",
              "\n",
              "    .dataframe thead th {\n",
              "        text-align: right;\n",
              "    }\n",
              "</style>\n",
              "<table border=\"1\" class=\"dataframe\">\n",
              "  <thead>\n",
              "    <tr style=\"text-align: right;\">\n",
              "      <th></th>\n",
              "      <th>Restaurant</th>\n",
              "      <th>Extra Cheeze</th>\n",
              "      <th>Extra Mushroom</th>\n",
              "      <th>Size by Inch</th>\n",
              "      <th>Extra Spicy</th>\n",
              "      <th>Price</th>\n",
              "    </tr>\n",
              "  </thead>\n",
              "  <tbody>\n",
              "    <tr>\n",
              "      <th>0</th>\n",
              "      <td>A</td>\n",
              "      <td>1</td>\n",
              "      <td>1</td>\n",
              "      <td>12</td>\n",
              "      <td>0</td>\n",
              "      <td>650</td>\n",
              "    </tr>\n",
              "    <tr>\n",
              "      <th>1</th>\n",
              "      <td>B</td>\n",
              "      <td>0</td>\n",
              "      <td>1</td>\n",
              "      <td>15</td>\n",
              "      <td>1</td>\n",
              "      <td>800</td>\n",
              "    </tr>\n",
              "    <tr>\n",
              "      <th>2</th>\n",
              "      <td>C</td>\n",
              "      <td>0</td>\n",
              "      <td>0</td>\n",
              "      <td>9</td>\n",
              "      <td>0</td>\n",
              "      <td>500</td>\n",
              "    </tr>\n",
              "    <tr>\n",
              "      <th>3</th>\n",
              "      <td>D</td>\n",
              "      <td>1</td>\n",
              "      <td>0</td>\n",
              "      <td>12</td>\n",
              "      <td>1</td>\n",
              "      <td>700</td>\n",
              "    </tr>\n",
              "    <tr>\n",
              "      <th>4</th>\n",
              "      <td>E</td>\n",
              "      <td>1</td>\n",
              "      <td>0</td>\n",
              "      <td>12</td>\n",
              "      <td>1</td>\n",
              "      <td>750</td>\n",
              "    </tr>\n",
              "    <tr>\n",
              "      <th>5</th>\n",
              "      <td>F</td>\n",
              "      <td>0</td>\n",
              "      <td>1</td>\n",
              "      <td>15</td>\n",
              "      <td>1</td>\n",
              "      <td>900</td>\n",
              "    </tr>\n",
              "    <tr>\n",
              "      <th>6</th>\n",
              "      <td>G</td>\n",
              "      <td>1</td>\n",
              "      <td>0</td>\n",
              "      <td>9</td>\n",
              "      <td>0</td>\n",
              "      <td>600</td>\n",
              "    </tr>\n",
              "    <tr>\n",
              "      <th>7</th>\n",
              "      <td>H</td>\n",
              "      <td>1</td>\n",
              "      <td>0</td>\n",
              "      <td>9</td>\n",
              "      <td>1</td>\n",
              "      <td>700</td>\n",
              "    </tr>\n",
              "    <tr>\n",
              "      <th>8</th>\n",
              "      <td>I</td>\n",
              "      <td>0</td>\n",
              "      <td>1</td>\n",
              "      <td>15</td>\n",
              "      <td>0</td>\n",
              "      <td>750</td>\n",
              "    </tr>\n",
              "    <tr>\n",
              "      <th>9</th>\n",
              "      <td>J</td>\n",
              "      <td>0</td>\n",
              "      <td>1</td>\n",
              "      <td>15</td>\n",
              "      <td>0</td>\n",
              "      <td>700</td>\n",
              "    </tr>\n",
              "    <tr>\n",
              "      <th>10</th>\n",
              "      <td>K</td>\n",
              "      <td>1</td>\n",
              "      <td>1</td>\n",
              "      <td>8</td>\n",
              "      <td>0</td>\n",
              "      <td>600</td>\n",
              "    </tr>\n",
              "    <tr>\n",
              "      <th>11</th>\n",
              "      <td>L</td>\n",
              "      <td>0</td>\n",
              "      <td>0</td>\n",
              "      <td>12</td>\n",
              "      <td>1</td>\n",
              "      <td>700</td>\n",
              "    </tr>\n",
              "    <tr>\n",
              "      <th>12</th>\n",
              "      <td>M</td>\n",
              "      <td>1</td>\n",
              "      <td>1</td>\n",
              "      <td>8</td>\n",
              "      <td>0</td>\n",
              "      <td>550</td>\n",
              "    </tr>\n",
              "    <tr>\n",
              "      <th>13</th>\n",
              "      <td>N</td>\n",
              "      <td>1</td>\n",
              "      <td>1</td>\n",
              "      <td>12</td>\n",
              "      <td>1</td>\n",
              "      <td>900</td>\n",
              "    </tr>\n",
              "    <tr>\n",
              "      <th>14</th>\n",
              "      <td>O</td>\n",
              "      <td>1</td>\n",
              "      <td>0</td>\n",
              "      <td>12</td>\n",
              "      <td>0</td>\n",
              "      <td>700</td>\n",
              "    </tr>\n",
              "    <tr>\n",
              "      <th>15</th>\n",
              "      <td>P</td>\n",
              "      <td>1</td>\n",
              "      <td>1</td>\n",
              "      <td>12</td>\n",
              "      <td>0</td>\n",
              "      <td>750</td>\n",
              "    </tr>\n",
              "    <tr>\n",
              "      <th>16</th>\n",
              "      <td>Q</td>\n",
              "      <td>0</td>\n",
              "      <td>1</td>\n",
              "      <td>15</td>\n",
              "      <td>1</td>\n",
              "      <td>1000</td>\n",
              "    </tr>\n",
              "    <tr>\n",
              "      <th>17</th>\n",
              "      <td>R</td>\n",
              "      <td>0</td>\n",
              "      <td>0</td>\n",
              "      <td>9</td>\n",
              "      <td>0</td>\n",
              "      <td>650</td>\n",
              "    </tr>\n",
              "    <tr>\n",
              "      <th>18</th>\n",
              "      <td>S</td>\n",
              "      <td>1</td>\n",
              "      <td>1</td>\n",
              "      <td>12</td>\n",
              "      <td>1</td>\n",
              "      <td>950</td>\n",
              "    </tr>\n",
              "    <tr>\n",
              "      <th>19</th>\n",
              "      <td>T</td>\n",
              "      <td>1</td>\n",
              "      <td>0</td>\n",
              "      <td>9</td>\n",
              "      <td>0</td>\n",
              "      <td>700</td>\n",
              "    </tr>\n",
              "  </tbody>\n",
              "</table>\n",
              "</div>"
            ],
            "text/plain": [
              "   Restaurant  Extra Cheeze  Extra Mushroom   Size by Inch  Extra Spicy  Price\n",
              "0           A             1               1             12            0    650\n",
              "1           B             0               1             15            1    800\n",
              "2           C             0               0              9            0    500\n",
              "3           D             1               0             12            1    700\n",
              "4           E             1               0             12            1    750\n",
              "5           F             0               1             15            1    900\n",
              "6           G             1               0              9            0    600\n",
              "7           H             1               0              9            1    700\n",
              "8           I             0               1             15            0    750\n",
              "9           J             0               1             15            0    700\n",
              "10          K             1               1              8            0    600\n",
              "11          L             0               0             12            1    700\n",
              "12          M             1               1              8            0    550\n",
              "13          N             1               1             12            1    900\n",
              "14          O             1               0             12            0    700\n",
              "15          P             1               1             12            0    750\n",
              "16          Q             0               1             15            1   1000\n",
              "17          R             0               0              9            0    650\n",
              "18          S             1               1             12            1    950\n",
              "19          T             1               0              9            0    700"
            ]
          },
          "metadata": {
            "tags": []
          },
          "execution_count": 19
        }
      ]
    },
    {
      "cell_type": "code",
      "metadata": {
        "colab": {
          "base_uri": "https://localhost:8080/",
          "height": 145
        },
        "id": "tuGXToNUMJG_",
        "outputId": "a60fef04-a0c2-49db-8a9e-dc3b4c6f5095"
      },
      "source": [
        "corr = df.corr()\n",
        "corr.style.background_gradient(cmap='Greens')"
      ],
      "execution_count": 20,
      "outputs": [
        {
          "output_type": "execute_result",
          "data": {
            "text/html": [
              "<style  type=\"text/css\" >\n",
              "#T_55f2873c_cd75_11eb_9a69_0242ac1c0002row0_col0,#T_55f2873c_cd75_11eb_9a69_0242ac1c0002row1_col1,#T_55f2873c_cd75_11eb_9a69_0242ac1c0002row2_col2,#T_55f2873c_cd75_11eb_9a69_0242ac1c0002row3_col3,#T_55f2873c_cd75_11eb_9a69_0242ac1c0002row4_col4{\n",
              "            background-color:  #00441b;\n",
              "            color:  #f1f1f1;\n",
              "        }#T_55f2873c_cd75_11eb_9a69_0242ac1c0002row0_col1,#T_55f2873c_cd75_11eb_9a69_0242ac1c0002row0_col2,#T_55f2873c_cd75_11eb_9a69_0242ac1c0002row0_col3,#T_55f2873c_cd75_11eb_9a69_0242ac1c0002row0_col4,#T_55f2873c_cd75_11eb_9a69_0242ac1c0002row2_col0{\n",
              "            background-color:  #f7fcf5;\n",
              "            color:  #000000;\n",
              "        }#T_55f2873c_cd75_11eb_9a69_0242ac1c0002row1_col0{\n",
              "            background-color:  #c6e8bf;\n",
              "            color:  #000000;\n",
              "        }#T_55f2873c_cd75_11eb_9a69_0242ac1c0002row1_col2{\n",
              "            background-color:  #3ba458;\n",
              "            color:  #000000;\n",
              "        }#T_55f2873c_cd75_11eb_9a69_0242ac1c0002row1_col3{\n",
              "            background-color:  #ebf7e7;\n",
              "            color:  #000000;\n",
              "        }#T_55f2873c_cd75_11eb_9a69_0242ac1c0002row1_col4{\n",
              "            background-color:  #72c375;\n",
              "            color:  #000000;\n",
              "        }#T_55f2873c_cd75_11eb_9a69_0242ac1c0002row2_col1{\n",
              "            background-color:  #68be70;\n",
              "            color:  #000000;\n",
              "        }#T_55f2873c_cd75_11eb_9a69_0242ac1c0002row2_col3{\n",
              "            background-color:  #88ce87;\n",
              "            color:  #000000;\n",
              "        }#T_55f2873c_cd75_11eb_9a69_0242ac1c0002row2_col4{\n",
              "            background-color:  #2a924a;\n",
              "            color:  #000000;\n",
              "        }#T_55f2873c_cd75_11eb_9a69_0242ac1c0002row3_col0{\n",
              "            background-color:  #bde5b6;\n",
              "            color:  #000000;\n",
              "        }#T_55f2873c_cd75_11eb_9a69_0242ac1c0002row3_col1{\n",
              "            background-color:  #e6f5e1;\n",
              "            color:  #000000;\n",
              "        }#T_55f2873c_cd75_11eb_9a69_0242ac1c0002row3_col2{\n",
              "            background-color:  #4bb062;\n",
              "            color:  #000000;\n",
              "        }#T_55f2873c_cd75_11eb_9a69_0242ac1c0002row3_col4{\n",
              "            background-color:  #2b934b;\n",
              "            color:  #000000;\n",
              "        }#T_55f2873c_cd75_11eb_9a69_0242ac1c0002row4_col0{\n",
              "            background-color:  #c9eac2;\n",
              "            color:  #000000;\n",
              "        }#T_55f2873c_cd75_11eb_9a69_0242ac1c0002row4_col1{\n",
              "            background-color:  #76c578;\n",
              "            color:  #000000;\n",
              "        }#T_55f2873c_cd75_11eb_9a69_0242ac1c0002row4_col2{\n",
              "            background-color:  #17813d;\n",
              "            color:  #f1f1f1;\n",
              "        }#T_55f2873c_cd75_11eb_9a69_0242ac1c0002row4_col3{\n",
              "            background-color:  #2f974e;\n",
              "            color:  #000000;\n",
              "        }</style><table id=\"T_55f2873c_cd75_11eb_9a69_0242ac1c0002\" ><thead>    <tr>        <th class=\"blank level0\" ></th>        <th class=\"col_heading level0 col0\" >Extra Cheeze</th>        <th class=\"col_heading level0 col1\" >Extra Mushroom</th>        <th class=\"col_heading level0 col2\" > Size by Inch</th>        <th class=\"col_heading level0 col3\" >Extra Spicy</th>        <th class=\"col_heading level0 col4\" >Price</th>    </tr></thead><tbody>\n",
              "                <tr>\n",
              "                        <th id=\"T_55f2873c_cd75_11eb_9a69_0242ac1c0002level0_row0\" class=\"row_heading level0 row0\" >Extra Cheeze</th>\n",
              "                        <td id=\"T_55f2873c_cd75_11eb_9a69_0242ac1c0002row0_col0\" class=\"data row0 col0\" >1.000</td>\n",
              "                        <td id=\"T_55f2873c_cd75_11eb_9a69_0242ac1c0002row0_col1\" class=\"data row0 col1\" >-0.123</td>\n",
              "                        <td id=\"T_55f2873c_cd75_11eb_9a69_0242ac1c0002row0_col2\" class=\"data row0 col2\" >-0.511</td>\n",
              "                        <td id=\"T_55f2873c_cd75_11eb_9a69_0242ac1c0002row0_col3\" class=\"data row0 col3\" >-0.082</td>\n",
              "                        <td id=\"T_55f2873c_cd75_11eb_9a69_0242ac1c0002row0_col4\" class=\"data row0 col4\" >-0.145</td>\n",
              "            </tr>\n",
              "            <tr>\n",
              "                        <th id=\"T_55f2873c_cd75_11eb_9a69_0242ac1c0002level0_row1\" class=\"row_heading level0 row1\" >Extra Mushroom</th>\n",
              "                        <td id=\"T_55f2873c_cd75_11eb_9a69_0242ac1c0002row1_col0\" class=\"data row1 col0\" >-0.123</td>\n",
              "                        <td id=\"T_55f2873c_cd75_11eb_9a69_0242ac1c0002row1_col1\" class=\"data row1 col1\" >1.000</td>\n",
              "                        <td id=\"T_55f2873c_cd75_11eb_9a69_0242ac1c0002row1_col2\" class=\"data row1 col2\" >0.470</td>\n",
              "                        <td id=\"T_55f2873c_cd75_11eb_9a69_0242ac1c0002row1_col3\" class=\"data row1 col3\" >0.010</td>\n",
              "                        <td id=\"T_55f2873c_cd75_11eb_9a69_0242ac1c0002row1_col4\" class=\"data row1 col4\" >0.433</td>\n",
              "            </tr>\n",
              "            <tr>\n",
              "                        <th id=\"T_55f2873c_cd75_11eb_9a69_0242ac1c0002level0_row2\" class=\"row_heading level0 row2\" > Size by Inch</th>\n",
              "                        <td id=\"T_55f2873c_cd75_11eb_9a69_0242ac1c0002row2_col0\" class=\"data row2 col0\" >-0.511</td>\n",
              "                        <td id=\"T_55f2873c_cd75_11eb_9a69_0242ac1c0002row2_col1\" class=\"data row2 col1\" >0.470</td>\n",
              "                        <td id=\"T_55f2873c_cd75_11eb_9a69_0242ac1c0002row2_col2\" class=\"data row2 col2\" >1.000</td>\n",
              "                        <td id=\"T_55f2873c_cd75_11eb_9a69_0242ac1c0002row2_col3\" class=\"data row2 col3\" >0.396</td>\n",
              "                        <td id=\"T_55f2873c_cd75_11eb_9a69_0242ac1c0002row2_col4\" class=\"data row2 col4\" >0.682</td>\n",
              "            </tr>\n",
              "            <tr>\n",
              "                        <th id=\"T_55f2873c_cd75_11eb_9a69_0242ac1c0002level0_row3\" class=\"row_heading level0 row3\" >Extra Spicy</th>\n",
              "                        <td id=\"T_55f2873c_cd75_11eb_9a69_0242ac1c0002row3_col0\" class=\"data row3 col0\" >-0.082</td>\n",
              "                        <td id=\"T_55f2873c_cd75_11eb_9a69_0242ac1c0002row3_col1\" class=\"data row3 col1\" >0.010</td>\n",
              "                        <td id=\"T_55f2873c_cd75_11eb_9a69_0242ac1c0002row3_col2\" class=\"data row3 col2\" >0.396</td>\n",
              "                        <td id=\"T_55f2873c_cd75_11eb_9a69_0242ac1c0002row3_col3\" class=\"data row3 col3\" >1.000</td>\n",
              "                        <td id=\"T_55f2873c_cd75_11eb_9a69_0242ac1c0002row3_col4\" class=\"data row3 col4\" >0.675</td>\n",
              "            </tr>\n",
              "            <tr>\n",
              "                        <th id=\"T_55f2873c_cd75_11eb_9a69_0242ac1c0002level0_row4\" class=\"row_heading level0 row4\" >Price</th>\n",
              "                        <td id=\"T_55f2873c_cd75_11eb_9a69_0242ac1c0002row4_col0\" class=\"data row4 col0\" >-0.145</td>\n",
              "                        <td id=\"T_55f2873c_cd75_11eb_9a69_0242ac1c0002row4_col1\" class=\"data row4 col1\" >0.433</td>\n",
              "                        <td id=\"T_55f2873c_cd75_11eb_9a69_0242ac1c0002row4_col2\" class=\"data row4 col2\" >0.682</td>\n",
              "                        <td id=\"T_55f2873c_cd75_11eb_9a69_0242ac1c0002row4_col3\" class=\"data row4 col3\" >0.675</td>\n",
              "                        <td id=\"T_55f2873c_cd75_11eb_9a69_0242ac1c0002row4_col4\" class=\"data row4 col4\" >1.000</td>\n",
              "            </tr>\n",
              "    </tbody></table>"
            ],
            "text/plain": [
              "<pandas.io.formats.style.Styler at 0x7f518255f390>"
            ]
          },
          "metadata": {
            "tags": []
          },
          "execution_count": 20
        }
      ]
    },
    {
      "cell_type": "code",
      "metadata": {
        "id": "GrDFmdX4MMhi"
      },
      "source": [
        "# Getting Features\n",
        "features = ['Extra Cheeze', 'Extra Mushroom', 'Extra Spicy', ' Size by Inch']\n",
        "x = df[features]\n",
        "\n",
        "# Predicting Value\n",
        "y = df['Price']"
      ],
      "execution_count": 21,
      "outputs": []
    },
    {
      "cell_type": "code",
      "metadata": {
        "id": "ZjoiYw7lMP3H"
      },
      "source": [
        "# import important liberaries\n",
        "from sklearn.model_selection import train_test_split\n",
        "\n",
        "x_train, x_test, y_train, y_test = train_test_split(x,y,test_size = 1/4, random_state = 4)"
      ],
      "execution_count": 22,
      "outputs": []
    },
    {
      "cell_type": "code",
      "metadata": {
        "colab": {
          "base_uri": "https://localhost:8080/"
        },
        "id": "nXqD7TUvMSo6",
        "outputId": "629ea1fc-eeee-4761-c272-7ff7cc333fe4"
      },
      "source": [
        "#Import Library for Accuracy Score\n",
        "from sklearn.metrics import accuracy_score\n",
        "\n",
        "#Import Library for Logistic Regression\n",
        "from sklearn.linear_model import LogisticRegression\n",
        "\n",
        "#Initialize the Logistic Regression Classifier\n",
        "logisreg = LogisticRegression()\n",
        "\n",
        "#Train the model using Training Dataset\n",
        "logisreg.fit(x_train, y_train)\n",
        "\n",
        "# Prediction using test data\n",
        "y_pred = logisreg.predict(x_test)\n",
        "\n",
        "# Calculate Model accuracy by comparing y_test and y_pred\n",
        "acc_logisreg = accuracy_score(y_test, y_pred)\n",
        "print( 'Accuracy of Logistic Regression model : ', acc_logisreg )"
      ],
      "execution_count": 23,
      "outputs": [
        {
          "output_type": "stream",
          "text": [
            "Accuracy of Logistic Regression model :  0.4\n"
          ],
          "name": "stdout"
        },
        {
          "output_type": "stream",
          "text": [
            "/usr/local/lib/python3.7/dist-packages/sklearn/linear_model/_logistic.py:940: ConvergenceWarning: lbfgs failed to converge (status=1):\n",
            "STOP: TOTAL NO. of ITERATIONS REACHED LIMIT.\n",
            "\n",
            "Increase the number of iterations (max_iter) or scale the data as shown in:\n",
            "    https://scikit-learn.org/stable/modules/preprocessing.html\n",
            "Please also refer to the documentation for alternative solver options:\n",
            "    https://scikit-learn.org/stable/modules/linear_model.html#logistic-regression\n",
            "  extra_warning_msg=_LOGISTIC_SOLVER_CONVERGENCE_MSG)\n"
          ],
          "name": "stderr"
        }
      ]
    },
    {
      "cell_type": "code",
      "metadata": {
        "colab": {
          "base_uri": "https://localhost:8080/"
        },
        "id": "DrG1k-7cMX48",
        "outputId": "46ef7df0-db2a-495d-bf71-71d494f69784"
      },
      "source": [
        "#Import Library for Linear Discriminant Analysis\n",
        "from sklearn.discriminant_analysis import LinearDiscriminantAnalysis\n",
        "from sklearn.metrics import accuracy_score\n",
        "\n",
        "\n",
        "#Initialize the Linear Discriminant Analysis Classifier\n",
        "lda = LinearDiscriminantAnalysis()\n",
        "\n",
        "#Train the model using Training Dataset\n",
        "lda.fit(x_train, y_train)\n",
        "\n",
        "# Prediction using test data\n",
        "lda_pred = lda.predict(x_test)\n",
        "\n",
        "# Calculate Model accuracy by comparing y_test and lda_pred\n",
        "acc_lda = accuracy_score(y_test, lda_pred)\n",
        "print( 'Accuracy of Linear Discriminant Analysis Classifier: ', acc_lda )"
      ],
      "execution_count": 24,
      "outputs": [
        {
          "output_type": "stream",
          "text": [
            "Accuracy of Linear Discriminant Analysis Classifier:  0.2\n"
          ],
          "name": "stdout"
        }
      ]
    },
    {
      "cell_type": "code",
      "metadata": {
        "colab": {
          "base_uri": "https://localhost:8080/"
        },
        "id": "PBJpLn6rMeSz",
        "outputId": "a2752cc6-8ab7-40e8-d521-b40634e9f26d"
      },
      "source": [
        "#Import Library for Gaussian Naive Bayes\n",
        "from sklearn.naive_bayes import GaussianNB\n",
        "\n",
        "#Initialize the Gaussian Naive Bayes Classifier\n",
        "gnb = GaussianNB()\n",
        "\n",
        "#Train the model using Training Dataset\n",
        "gnb.fit(x_train, y_train)\n",
        "\n",
        "# Prediction using test data\n",
        "gnb_pred = gnb.predict(x_test)\n",
        "\n",
        "# Calculate Model accuracy by comparing y_test and gnb_pred\n",
        "acc_ganb = accuracy_score(y_test, gnb_pred)\n",
        "print( 'Accuracy of Gaussian Naive Bayes : ', acc_ganb )"
      ],
      "execution_count": 25,
      "outputs": [
        {
          "output_type": "stream",
          "text": [
            "Accuracy of Gaussian Naive Bayes :  0.2\n"
          ],
          "name": "stdout"
        }
      ]
    },
    {
      "cell_type": "code",
      "metadata": {
        "colab": {
          "base_uri": "https://localhost:8080/"
        },
        "id": "javWYvK3MiUg",
        "outputId": "022bd5d7-f329-4795-f9ce-a69fc6ff4cc5"
      },
      "source": [
        "#Import Library for Decision Tree Classifier\n",
        "from sklearn.tree import DecisionTreeClassifier\n",
        "\n",
        "#Initialize the Decision Tree Classifier\n",
        "dtc = DecisionTreeClassifier()\n",
        "\n",
        "#Train the model using Training Dataset\n",
        "dtc.fit(x_train, y_train)\n",
        "\n",
        "# Prediction using test data\n",
        "dtc_pred = dtc.predict(x_test)\n",
        "\n",
        "# Calculate Model accuracy by comparing y_test and dtc_pred\n",
        "acc_dtree = accuracy_score(y_test, dtc_pred)\n",
        "print( 'Accuracy of  Decision Tree Classifier : ', acc_dtree )"
      ],
      "execution_count": 26,
      "outputs": [
        {
          "output_type": "stream",
          "text": [
            "Accuracy of  Decision Tree Classifier :  0.2\n"
          ],
          "name": "stdout"
        }
      ]
    },
    {
      "cell_type": "code",
      "metadata": {
        "colab": {
          "base_uri": "https://localhost:8080/"
        },
        "id": "RfydnoGqMnMQ",
        "outputId": "b2310006-1442-44bd-9240-dbec53293b5c"
      },
      "source": [
        "#Import Library for Random Forest\n",
        "from sklearn.ensemble import RandomForestClassifier\n",
        "\n",
        "#Initialize the Random Forest\n",
        "rfc = RandomForestClassifier()\n",
        "\n",
        "#Train the model using Training Dataset\n",
        "rfc.fit(x_train, y_train)\n",
        "\n",
        "# Prediction using test data\n",
        "rfc_pred = rfc.predict(x_test)\n",
        "\n",
        "# Calculate Model accuracy by comparing y_test and rfc_pred\n",
        "acc_rf = accuracy_score(y_test, rfc_pred)\n",
        "print( 'Accuracy of  Random Forest : ', acc_rf )"
      ],
      "execution_count": 27,
      "outputs": [
        {
          "output_type": "stream",
          "text": [
            "Accuracy of  Random Forest :  0.2\n"
          ],
          "name": "stdout"
        }
      ]
    },
    {
      "cell_type": "code",
      "metadata": {
        "colab": {
          "base_uri": "https://localhost:8080/"
        },
        "id": "Lsy9MMLqMq1t",
        "outputId": "3b847ca2-0e09-4ffd-bbbf-335ea9197b9d"
      },
      "source": [
        "#Import Library for Support Vector Machine\n",
        "from sklearn import svm\n",
        "\n",
        "#Initialize the Support Vector Classifier\n",
        "svmodel = svm.SVC()\n",
        "\n",
        "#Train the model using Training Dataset\n",
        "svmodel.fit(x_train, y_train)\n",
        "\n",
        "# Prediction using test data\n",
        "svm_pred = svmodel.predict(x_test)\n",
        "\n",
        "# Calculate Model accuracy by comparing y_test and svm_pred\n",
        "acc_svc = accuracy_score(y_test, svm_pred)\n",
        "print( 'Accuracy of Support Vector Classifier: ', acc_svc )"
      ],
      "execution_count": 28,
      "outputs": [
        {
          "output_type": "stream",
          "text": [
            "Accuracy of Support Vector Classifier:  0.4\n"
          ],
          "name": "stdout"
        }
      ]
    },
    {
      "cell_type": "code",
      "metadata": {
        "colab": {
          "base_uri": "https://localhost:8080/"
        },
        "id": "RrlefgF2MvOK",
        "outputId": "66b71627-4933-4ec9-e342-304a90473ac0"
      },
      "source": [
        "#Import Library for K Nearest Neighbour Model\n",
        "from sklearn.neighbors import KNeighborsClassifier\n",
        "\n",
        "#Initialize the K Nearest Neighbour Model with Default Value of K=5\n",
        "knnmodel = KNeighborsClassifier()\n",
        "\n",
        "#Train the model using Training Dataset\n",
        "knnmodel.fit(x_train, y_train)\n",
        "\n",
        "# Prediction using test data\n",
        "knn_pred = knnmodel.predict(x_test)\n",
        "\n",
        "# Calculate Model accuracy by comparing y_test and knn_pred\n",
        "acc_knn = accuracy_score(y_test, knn_pred)\n",
        "print( 'Accuracy of KNN Classifier: ', acc_knn )"
      ],
      "execution_count": 29,
      "outputs": [
        {
          "output_type": "stream",
          "text": [
            "Accuracy of KNN Classifier:  0.2\n"
          ],
          "name": "stdout"
        }
      ]
    },
    {
      "cell_type": "code",
      "metadata": {
        "colab": {
          "base_uri": "https://localhost:8080/",
          "height": 266
        },
        "id": "r9RwKPbAMzAW",
        "outputId": "d410d733-2a4d-4c7a-f42f-128422111c55"
      },
      "source": [
        "models = pd.DataFrame({\n",
        "    'Model': ['Logistic Regression','Linear Discriminant Analysis','Naive Bayes', 'Decision Tree', 'Random Forest', 'Support Vector Machines', \n",
        "              'K - Nearest Neighbors'],\n",
        "    'Score': [acc_logisreg, acc_lda, acc_ganb, acc_dtree, acc_rf, acc_svc, acc_knn]})\n",
        "\n",
        "models.sort_values(by='Score', ascending=False)"
      ],
      "execution_count": 30,
      "outputs": [
        {
          "output_type": "execute_result",
          "data": {
            "text/html": [
              "<div>\n",
              "<style scoped>\n",
              "    .dataframe tbody tr th:only-of-type {\n",
              "        vertical-align: middle;\n",
              "    }\n",
              "\n",
              "    .dataframe tbody tr th {\n",
              "        vertical-align: top;\n",
              "    }\n",
              "\n",
              "    .dataframe thead th {\n",
              "        text-align: right;\n",
              "    }\n",
              "</style>\n",
              "<table border=\"1\" class=\"dataframe\">\n",
              "  <thead>\n",
              "    <tr style=\"text-align: right;\">\n",
              "      <th></th>\n",
              "      <th>Model</th>\n",
              "      <th>Score</th>\n",
              "    </tr>\n",
              "  </thead>\n",
              "  <tbody>\n",
              "    <tr>\n",
              "      <th>0</th>\n",
              "      <td>Logistic Regression</td>\n",
              "      <td>0.4</td>\n",
              "    </tr>\n",
              "    <tr>\n",
              "      <th>5</th>\n",
              "      <td>Support Vector Machines</td>\n",
              "      <td>0.4</td>\n",
              "    </tr>\n",
              "    <tr>\n",
              "      <th>1</th>\n",
              "      <td>Linear Discriminant Analysis</td>\n",
              "      <td>0.2</td>\n",
              "    </tr>\n",
              "    <tr>\n",
              "      <th>2</th>\n",
              "      <td>Naive Bayes</td>\n",
              "      <td>0.2</td>\n",
              "    </tr>\n",
              "    <tr>\n",
              "      <th>3</th>\n",
              "      <td>Decision Tree</td>\n",
              "      <td>0.2</td>\n",
              "    </tr>\n",
              "    <tr>\n",
              "      <th>4</th>\n",
              "      <td>Random Forest</td>\n",
              "      <td>0.2</td>\n",
              "    </tr>\n",
              "    <tr>\n",
              "      <th>6</th>\n",
              "      <td>K - Nearest Neighbors</td>\n",
              "      <td>0.2</td>\n",
              "    </tr>\n",
              "  </tbody>\n",
              "</table>\n",
              "</div>"
            ],
            "text/plain": [
              "                          Model  Score\n",
              "0           Logistic Regression    0.4\n",
              "5       Support Vector Machines    0.4\n",
              "1  Linear Discriminant Analysis    0.2\n",
              "2                   Naive Bayes    0.2\n",
              "3                 Decision Tree    0.2\n",
              "4                 Random Forest    0.2\n",
              "6         K - Nearest Neighbors    0.2"
            ]
          },
          "metadata": {
            "tags": []
          },
          "execution_count": 30
        }
      ]
    },
    {
      "cell_type": "code",
      "metadata": {
        "colab": {
          "base_uri": "https://localhost:8080/"
        },
        "id": "2uVgYQs5M2jJ",
        "outputId": "e31299c8-07ca-433a-994e-9cacbcea2390"
      },
      "source": [
        "# Predictions through THe upstaed MOdels\n",
        "print('Price Predictions using Logistic Regression Model: ', logisreg.predict([[1,0,1,11]]))\n",
        "\n",
        "print('Price Predictions using LDA Model: ', lda.predict([[1,0,1,11]]))\n",
        "\n",
        "print('Price Predictions using Gaussian Naive Bayes Model: ', gnb.predict([[1,0,1,11]]))\n",
        "\n",
        "print('Price Predictions using Decision Tree Model: ', dtc.predict([[1,0,1,11]]))\n",
        "\n",
        "print('Price Predictions using Random Forest Model: ', rfc.predict([[1,0,1,11]]))\n",
        "\n",
        "print('Price Predictions using SVM Model: ', svmodel.predict([[1,0,1,11]]))\n",
        "\n",
        "print('Price Predictions using KNN Model: ', knnmodel.predict([[1,0,1,11]]))"
      ],
      "execution_count": 31,
      "outputs": [
        {
          "output_type": "stream",
          "text": [
            "Price Predictions using Logistic Regression Model:  [700]\n",
            "Price Predictions using LDA Model:  [700]\n",
            "Price Predictions using Gaussian Naive Bayes Model:  [700]\n",
            "Price Predictions using Decision Tree Model:  [750]\n",
            "Price Predictions using Random Forest Model:  [750]\n",
            "Price Predictions using SVM Model:  [700]\n",
            "Price Predictions using KNN Model:  [700]\n"
          ],
          "name": "stdout"
        }
      ]
    },
    {
      "cell_type": "code",
      "metadata": {
        "id": "vSe2dmk9M6X4"
      },
      "source": [
        ""
      ],
      "execution_count": null,
      "outputs": []
    }
  ]
}